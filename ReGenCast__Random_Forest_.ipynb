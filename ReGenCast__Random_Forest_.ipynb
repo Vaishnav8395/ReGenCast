{
  "nbformat": 4,
  "nbformat_minor": 0,
  "metadata": {
    "colab": {
      "provenance": [],
      "gpuType": "T4",
      "authorship_tag": "ABX9TyMPXnumDuDQhtvA8WYzwpLW",
      "include_colab_link": true
    },
    "kernelspec": {
      "name": "python3",
      "display_name": "Python 3"
    },
    "language_info": {
      "name": "python"
    },
    "accelerator": "GPU"
  },
  "cells": [
    {
      "cell_type": "markdown",
      "metadata": {
        "id": "view-in-github",
        "colab_type": "text"
      },
      "source": [
        "<a href=\"https://colab.research.google.com/github/Vaishnav8395/ReGenCast/blob/main/ReGenCast__Random_Forest_.ipynb\" target=\"_parent\"><img src=\"https://colab.research.google.com/assets/colab-badge.svg\" alt=\"Open In Colab\"/></a>"
      ]
    },
    {
      "cell_type": "code",
      "source": [
        "import os\n",
        "import pandas as pd\n",
        "import numpy as np\n",
        "from sklearn.preprocessing import StandardScaler, OrdinalEncoder\n",
        "from sklearn.ensemble import RandomForestRegressor\n",
        "from sklearn.model_selection import GridSearchCV\n",
        "from sklearn import metrics\n",
        "import warnings\n",
        "\n",
        "warnings.simplefilter(action='ignore', category=FutureWarning)\n",
        "\n",
        "# Define constants in a dictionary\n",
        "config = {\n",
        "    'file_path': \"https://raw.githubusercontent.com/Vaishnav8395/ReGenCast/main/SunPower_Full.csv\",\n",
        "    'target_variable': 'Active_Power',\n",
        "    'predictors': ['temperature_2m', 'relativehumidity_2m', 'direct_radiation',\n",
        "                   'diffuse_radiation', 'windspeed_10m', 'cloudcover', 'season'],\n",
        "    'categorical_variables': ['season'],\n",
        "    'standardize_predictor_list': ['temperature_2m', 'relativehumidity_2m',\n",
        "                                    'direct_radiation', 'diffuse_radiation',\n",
        "                                    'windspeed_10m', 'cloudcover']\n",
        "}\n",
        "\n",
        "# Load data\n",
        "def load_data(file_path):\n",
        "    df = pd.read_csv(file_path, sep='\\t')\n",
        "    df.rename(columns={'timestamp': 'date'}, inplace=True)\n",
        "    df['date'] = pd.to_datetime(df['date'])\n",
        "    df[config['target_variable']] = df[config['target_variable']].clip(lower=0)  # Set negative values to 0\n",
        "    return df\n",
        "\n",
        "# Add season\n",
        "def add_season(df):\n",
        "    def season(month):\n",
        "        if month in [12, 1, 2]:\n",
        "            return 'winter'\n",
        "        elif month in [3, 4, 5]:\n",
        "            return 'spring'\n",
        "        elif month in [6, 7, 8]:\n",
        "            return 'summer'\n",
        "        else:\n",
        "            return 'fall'\n",
        "    df['season'] = df['date'].dt.month.apply(season)\n",
        "    return df\n",
        "\n",
        "# Choose only 7-18 interval\n",
        "def choose_interval(df):\n",
        "    df = df.sort_values('date')\n",
        "    df = df.set_index('date')\n",
        "    df = df.between_time('07:00', '18:00')\n",
        "    return df\n",
        "\n",
        "# Split data\n",
        "def split_data(df):\n",
        "    ord_enc = OrdinalEncoder()\n",
        "    df['season'] = ord_enc.fit_transform(df[['season']])\n",
        "    cutoff_date = df.index.min() + pd.DateOffset(years=7)\n",
        "    train = df.loc[:cutoff_date]\n",
        "    test = df.loc[cutoff_date + pd.DateOffset(hours=1):]\n",
        "    return train, test\n",
        "\n",
        "# Standardize data\n",
        "def standardize_data(train, test):\n",
        "    X_train = train[config['standardize_predictor_list']]\n",
        "    X_test = test[config['standardize_predictor_list']]\n",
        "    scaler = StandardScaler()\n",
        "    X_train = scaler.fit_transform(X_train)\n",
        "    X_test = scaler.transform(X_test)\n",
        "    y_train = train[config['target_variable']]\n",
        "    y_test = test[config['target_variable']]\n",
        "    return X_train, X_test, y_train, y_test\n",
        "\n",
        "# Train Random Forest Regressor\n",
        "def train_rf_regressor(X_train, y_train):\n",
        "    param_grid = {\n",
        "        'n_estimators': [50, 100, 200],\n",
        "        'max_depth': [10, 20, 30],\n",
        "        'min_samples_split': [2, 5, 10],\n",
        "        'min_samples_leaf': [1, 2, 4]\n",
        "    }\n",
        "    rf = RandomForestRegressor()\n",
        "    grid_search = GridSearchCV(rf, param_grid, scoring='neg_mean_absolute_error', cv=5)\n",
        "    grid_search.fit(X_train, y_train)\n",
        "    return grid_search\n",
        "\n",
        "# Evaluate the model\n",
        "def evaluate_model(model, X_test, y_test):\n",
        "    y_pred = model.predict(X_test)\n",
        "    mae = metrics.mean_absolute_error(y_test, y_pred)\n",
        "    mse = metrics.mean_squared_error(y_test, y_pred)\n",
        "    rmse = np.sqrt(mse)\n",
        "    r2 = metrics.r2_score(y_test, y_pred)\n",
        "    print(\"Evaluation Metrics:\")\n",
        "    print(f\"MAE: {mae:.2f}\")\n",
        "    print(f\"RMSE: {rmse:.2f}\")\n",
        "    print(f\"R²: {r2:.2f}\")\n",
        "    return y_pred\n",
        "\n",
        "# Main function\n",
        "def main():\n",
        "    # Load and preprocess data\n",
        "    df = load_data(config['file_path'])\n",
        "    df = add_season(df)\n",
        "    df = choose_interval(df)\n",
        "    train, test = split_data(df)\n",
        "    X_train, X_test, y_train, y_test = standardize_data(train, test)\n",
        "\n",
        "    # Train and evaluate Random Forest\n",
        "    rf_model = train_rf_regressor(X_train, y_train)\n",
        "    print(\"Best Parameters:\", rf_model.best_params_)\n",
        "    y_pred = evaluate_model(rf_model, X_test, y_test)\n",
        "\n",
        "    # Optional: Save predictions\n",
        "    test['Predicted_Power'] = y_pred\n",
        "    print(test[['Predicted_Power', config['target_variable']]].head())\n",
        "\n",
        "if __name__ == \"__main__\":\n",
        "    main()\n"
      ],
      "metadata": {
        "colab": {
          "base_uri": "https://localhost:8080/"
        },
        "id": "hct8NBXC2zme",
        "outputId": "48260332-1baa-4a77-8fc8-67943419b15f"
      },
      "execution_count": 9,
      "outputs": [
        {
          "output_type": "stream",
          "name": "stdout",
          "text": [
            "Best Parameters: {'max_depth': 30, 'min_samples_leaf': 4, 'min_samples_split': 5, 'n_estimators': 200}\n",
            "Evaluation Metrics:\n",
            "MAE: 0.32\n",
            "RMSE: 0.55\n",
            "R²: 0.88\n",
            "                     Predicted_Power  Active_Power\n",
            "date                                              \n",
            "2020-07-22 08:00:00         0.743685      0.781067\n",
            "2020-07-22 09:00:00         2.015606      2.222433\n",
            "2020-07-22 10:00:00         3.269030      3.266800\n",
            "2020-07-22 11:00:00         4.012569      3.996233\n",
            "2020-07-22 12:00:00         4.352823      4.325633\n"
          ]
        },
        {
          "output_type": "stream",
          "name": "stderr",
          "text": [
            "<ipython-input-9-704d1dd2f299>:114: SettingWithCopyWarning: \n",
            "A value is trying to be set on a copy of a slice from a DataFrame.\n",
            "Try using .loc[row_indexer,col_indexer] = value instead\n",
            "\n",
            "See the caveats in the documentation: https://pandas.pydata.org/pandas-docs/stable/user_guide/indexing.html#returning-a-view-versus-a-copy\n",
            "  test['Predicted_Power'] = y_pred\n"
          ]
        }
      ]
    },
    {
      "cell_type": "code",
      "source": [
        "from sklearn.ensemble import RandomForestRegressor\n",
        "from sklearn.model_selection import train_test_split\n",
        "from sklearn.metrics import mean_absolute_error, mean_squared_error, r2_score\n",
        "import joblib\n",
        "import numpy as np\n",
        "import pandas as pd\n",
        "\n",
        "# Generate a sample dataset or load your dataset\n",
        "from sklearn.datasets import make_regression\n",
        "X, y = make_regression(n_samples=1000, n_features=10, noise=0.1, random_state=42)\n",
        "\n",
        "# Split the dataset into training and testing sets\n",
        "X_train, X_test, y_train, y_test = train_test_split(X, y, test_size=0.2, random_state=42)\n",
        "\n",
        "# Train the Random Forest Regressor\n",
        "rf_model = RandomForestRegressor(n_estimators=100, random_state=42)\n",
        "rf_model.fit(X_train, y_train)\n",
        "\n",
        "# Save the model\n",
        "joblib.dump(rf_model, 'random_forest_model.pkl')\n",
        "print(\"Model saved to random_forest_model.pkl\")\n",
        "\n",
        "# Load the model\n",
        "loaded_model = joblib.load('random_forest_model.pkl')\n",
        "print(\"Model loaded successfully\")\n",
        "\n",
        "# Make predictions\n",
        "y_pred = loaded_model.predict(X_test)\n",
        "\n",
        "# Evaluate the model\n",
        "def evaluate_model(y_test, y_pred):\n",
        "    mae = mean_absolute_error(y_test, y_pred)\n",
        "    mse = mean_squared_error(y_test, y_pred)\n",
        "    rmse = np.sqrt(mse)\n",
        "    r2 = r2_score(y_test, y_pred)\n",
        "\n",
        "    print(\"\\nEvaluation Metrics:\")\n",
        "    print(f\"Mean Absolute Error (MAE): {mae:.2f}\")\n",
        "    print(f\"Root Mean Squared Error (RMSE): {rmse:.2f}\")\n",
        "    print(f\"R² Score: {r2:.2f}\")\n",
        "    return mae, rmse, r2\n",
        "\n",
        "# Call the evaluation function\n",
        "evaluate_model(y_test, y_pred)\n"
      ],
      "metadata": {
        "colab": {
          "base_uri": "https://localhost:8080/"
        },
        "id": "h6JwReOUO5gy",
        "outputId": "1b783f21-57cf-416e-f59e-25a8bf5c001d"
      },
      "execution_count": 12,
      "outputs": [
        {
          "output_type": "stream",
          "name": "stdout",
          "text": [
            "Model saved to random_forest_model.pkl\n",
            "Model loaded successfully\n",
            "\n",
            "Evaluation Metrics:\n",
            "Mean Absolute Error (MAE): 40.18\n",
            "Root Mean Squared Error (RMSE): 51.20\n",
            "R² Score: 0.84\n"
          ]
        },
        {
          "output_type": "execute_result",
          "data": {
            "text/plain": [
              "(40.177080494230346, 51.20344866411072, 0.8445988311470158)"
            ]
          },
          "metadata": {},
          "execution_count": 12
        }
      ]
    }
  ]
}